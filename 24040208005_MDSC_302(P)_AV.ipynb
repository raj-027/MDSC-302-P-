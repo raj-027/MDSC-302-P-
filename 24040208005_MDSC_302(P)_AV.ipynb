{
  "nbformat": 4,
  "nbformat_minor": 0,
  "metadata": {
    "colab": {
      "provenance": [],
      "gpuType": "T4",
      "authorship_tag": "ABX9TyN6PbZnAHn9nM0A4slV9atI",
      "include_colab_link": true
    },
    "kernelspec": {
      "name": "python3",
      "display_name": "Python 3"
    },
    "language_info": {
      "name": "python"
    },
    "accelerator": "GPU"
  },
  "cells": [
    {
      "cell_type": "markdown",
      "metadata": {
        "id": "view-in-github",
        "colab_type": "text"
      },
      "source": [
        "<a href=\"https://colab.research.google.com/github/raj-027/MDSC-302-P-/blob/main/24040208005_MDSC_302(P)_AV.ipynb\" target=\"_parent\"><img src=\"https://colab.research.google.com/assets/colab-badge.svg\" alt=\"Open In Colab\"/></a>"
      ]
    },
    {
      "cell_type": "code",
      "execution_count": 46,
      "metadata": {
        "id": "Q4-epQ2G8bUv"
      },
      "outputs": [],
      "source": [
        "from torchvision import datasets, transforms\n",
        "import matplotlib.pyplot as plt\n",
        "import torch"
      ]
    },
    {
      "cell_type": "code",
      "source": [
        " data_path = '../data-unversioned/p1ch7/'\n",
        " cifar10 = datasets.CIFAR10(data_path, train=True, download=True)\n",
        " cifar10_val = datasets.CIFAR10(data_path, train=False, download=True)"
      ],
      "metadata": {
        "id": "VeT8dYBk86SU"
      },
      "execution_count": 47,
      "outputs": []
    },
    {
      "cell_type": "code",
      "metadata": {
        "colab": {
          "base_uri": "https://localhost:8080/"
        },
        "collapsed": true,
        "id": "0c65a875",
        "outputId": "f24acc11-c47d-4298-b1d5-a6a856c65192"
      },
      "source": [
        "all_datasets = dir(datasets)\n",
        "\n",
        "# Filter out private and built-in attributes\n",
        "dataset_names = [name for name in all_datasets if not name.startswith('_')]\n",
        "\n",
        "print(\"Datasets available in torchvision.datasets:\")\n",
        "for name in dataset_names:\n",
        "    print(name)"
      ],
      "execution_count": 48,
      "outputs": [
        {
          "output_type": "stream",
          "name": "stdout",
          "text": [
            "Datasets available in torchvision.datasets:\n",
            "CIFAR10\n",
            "CIFAR100\n",
            "CLEVRClassification\n",
            "CREStereo\n",
            "Caltech101\n",
            "Caltech256\n",
            "CarlaStereo\n",
            "CelebA\n",
            "Cityscapes\n",
            "CocoCaptions\n",
            "CocoDetection\n",
            "Country211\n",
            "DTD\n",
            "DatasetFolder\n",
            "EMNIST\n",
            "ETH3DStereo\n",
            "EuroSAT\n",
            "FER2013\n",
            "FGVCAircraft\n",
            "FakeData\n",
            "FallingThingsStereo\n",
            "FashionMNIST\n",
            "Flickr30k\n",
            "Flickr8k\n",
            "Flowers102\n",
            "FlyingChairs\n",
            "FlyingThings3D\n",
            "Food101\n",
            "GTSRB\n",
            "HD1K\n",
            "HMDB51\n",
            "INaturalist\n",
            "ImageFolder\n",
            "ImageNet\n",
            "Imagenette\n",
            "InStereo2k\n",
            "KMNIST\n",
            "Kinetics\n",
            "Kitti\n",
            "Kitti2012Stereo\n",
            "Kitti2015Stereo\n",
            "KittiFlow\n",
            "LFWPairs\n",
            "LFWPeople\n",
            "LSUN\n",
            "LSUNClass\n",
            "MNIST\n",
            "Middlebury2014Stereo\n",
            "MovingMNIST\n",
            "Omniglot\n",
            "OxfordIIITPet\n",
            "PCAM\n",
            "PhotoTour\n",
            "Places365\n",
            "QMNIST\n",
            "RenderedSST2\n",
            "SBDataset\n",
            "SBU\n",
            "SEMEION\n",
            "STL10\n",
            "SUN397\n",
            "SVHN\n",
            "SceneFlowStereo\n",
            "Sintel\n",
            "SintelStereo\n",
            "StanfordCars\n",
            "UCF101\n",
            "USPS\n",
            "VOCDetection\n",
            "VOCSegmentation\n",
            "VisionDataset\n",
            "WIDERFace\n",
            "caltech\n",
            "celeba\n",
            "cifar\n",
            "cityscapes\n",
            "clevr\n",
            "coco\n",
            "country211\n",
            "dtd\n",
            "eurosat\n",
            "fakedata\n",
            "fer2013\n",
            "fgvc_aircraft\n",
            "flickr\n",
            "flowers102\n",
            "folder\n",
            "food101\n",
            "gtsrb\n",
            "hmdb51\n",
            "imagenet\n",
            "imagenette\n",
            "inaturalist\n",
            "kinetics\n",
            "kitti\n",
            "lfw\n",
            "lsun\n",
            "mnist\n",
            "moving_mnist\n",
            "omniglot\n",
            "oxford_iiit_pet\n",
            "pcam\n",
            "phototour\n",
            "places365\n",
            "rendered_sst2\n",
            "sbd\n",
            "sbu\n",
            "semeion\n",
            "stanford_cars\n",
            "stl10\n",
            "sun397\n",
            "svhn\n",
            "ucf101\n",
            "usps\n",
            "utils\n",
            "video_utils\n",
            "vision\n",
            "voc\n",
            "widerface\n"
          ]
        }
      ]
    },
    {
      "cell_type": "code",
      "source": [
        "type(cifar10).__mro__"
      ],
      "metadata": {
        "colab": {
          "base_uri": "https://localhost:8080/"
        },
        "id": "ZFqkC1EF-tRP",
        "outputId": "b5008775-7189-4275-fa76-b682612ba6a8"
      },
      "execution_count": 49,
      "outputs": [
        {
          "output_type": "execute_result",
          "data": {
            "text/plain": [
              "(torchvision.datasets.cifar.CIFAR10,\n",
              " torchvision.datasets.vision.VisionDataset,\n",
              " torch.utils.data.dataset.Dataset,\n",
              " typing.Generic,\n",
              " object)"
            ]
          },
          "metadata": {},
          "execution_count": 49
        }
      ]
    },
    {
      "cell_type": "code",
      "source": [
        "len(cifar10), len(cifar10_val)"
      ],
      "metadata": {
        "colab": {
          "base_uri": "https://localhost:8080/"
        },
        "id": "09FLY1WZ-w87",
        "outputId": "abaa8b4b-4627-4d22-8c67-3acb4b1b0235"
      },
      "execution_count": 50,
      "outputs": [
        {
          "output_type": "execute_result",
          "data": {
            "text/plain": [
              "(50000, 10000)"
            ]
          },
          "metadata": {},
          "execution_count": 50
        }
      ]
    },
    {
      "cell_type": "code",
      "metadata": {
        "id": "36a55324"
      },
      "source": [
        "class_names = cifar10.classes"
      ],
      "execution_count": 51,
      "outputs": []
    },
    {
      "cell_type": "code",
      "source": [
        "img, label = cifar10[99]\n",
        "img, label, class_names[label]"
      ],
      "metadata": {
        "colab": {
          "base_uri": "https://localhost:8080/"
        },
        "id": "yxQYDAms_Oi8",
        "outputId": "9117454f-6068-4b9e-f44f-7d7edef206a9"
      },
      "execution_count": 52,
      "outputs": [
        {
          "output_type": "execute_result",
          "data": {
            "text/plain": [
              "(<PIL.Image.Image image mode=RGB size=32x32>, 1, 'automobile')"
            ]
          },
          "metadata": {},
          "execution_count": 52
        }
      ]
    },
    {
      "cell_type": "code",
      "source": [
        "plt.imshow(img)\n",
        "plt.show()"
      ],
      "metadata": {
        "colab": {
          "base_uri": "https://localhost:8080/",
          "height": 430
        },
        "id": "FL5gLHLN_0PT",
        "outputId": "3191fa6e-5a33-4a03-829e-555090221864"
      },
      "execution_count": 53,
      "outputs": [
        {
          "output_type": "display_data",
          "data": {
            "text/plain": [
              "<Figure size 640x480 with 1 Axes>"
            ],
            "image/png": "[encoded data removed]"
          },
          "metadata": {}
        }
      ]
    },
    {
      "cell_type": "code",
      "source": [
        "to_tensor = transforms.ToTensor()\n",
        "img_t = to_tensor(img)\n",
        "img_t.shape"
      ],
      "metadata": {
        "colab": {
          "base_uri": "https://localhost:8080/"
        },
        "id": "oZCCDXzbAN8-",
        "outputId": "42152656-bb15-469a-f01e-5383739860ee"
      },
      "execution_count": 54,
      "outputs": [
        {
          "output_type": "execute_result",
          "data": {
            "text/plain": [
              "torch.Size([3, 32, 32])"
            ]
          },
          "metadata": {},
          "execution_count": 54
        }
      ]
    },
    {
      "cell_type": "code",
      "source": [
        "tensor_cifar10 = datasets.CIFAR10(data_path, train=True, download=False,\n",
        "transform=transforms.ToTensor())"
      ],
      "metadata": {
        "id": "9qpgcL0NAfrb"
      },
      "execution_count": 55,
      "outputs": []
    },
    {
      "cell_type": "code",
      "source": [
        "img_t, _ = tensor_cifar10[99]\n",
        "type(img_t)"
      ],
      "metadata": {
        "colab": {
          "base_uri": "https://localhost:8080/"
        },
        "id": "HoBmDTR2AtYA",
        "outputId": "98caaafb-1a68-4f4c-ad44-2e6bb76c2759"
      },
      "execution_count": 56,
      "outputs": [
        {
          "output_type": "execute_result",
          "data": {
            "text/plain": [
              "torch.Tensor"
            ]
          },
          "metadata": {},
          "execution_count": 56
        }
      ]
    },
    {
      "cell_type": "code",
      "source": [
        "img_t.shape, img_t.dtype"
      ],
      "metadata": {
        "colab": {
          "base_uri": "https://localhost:8080/"
        },
        "id": "eSlsxj2gAxnu",
        "outputId": "c5148dff-b17e-47f4-9dc4-2088d1f460e3"
      },
      "execution_count": 57,
      "outputs": [
        {
          "output_type": "execute_result",
          "data": {
            "text/plain": [
              "(torch.Size([3, 32, 32]), torch.float32)"
            ]
          },
          "metadata": {},
          "execution_count": 57
        }
      ]
    },
    {
      "cell_type": "code",
      "source": [
        "img_t.min(), img_t.max()"
      ],
      "metadata": {
        "colab": {
          "base_uri": "https://localhost:8080/"
        },
        "id": "3GObX0cPBARI",
        "outputId": "0bc1afaa-98d9-40b7-b4d9-d0f1f71fd112"
      },
      "execution_count": 58,
      "outputs": [
        {
          "output_type": "execute_result",
          "data": {
            "text/plain": [
              "(tensor(0.), tensor(1.))"
            ]
          },
          "metadata": {},
          "execution_count": 58
        }
      ]
    },
    {
      "cell_type": "code",
      "source": [
        "plt.imshow(img_t.permute(1, 2, 0))\n",
        "plt.show()"
      ],
      "metadata": {
        "colab": {
          "base_uri": "https://localhost:8080/",
          "height": 430
        },
        "id": "6pMSEqQzBDjn",
        "outputId": "6d875b94-b7e6-4a8d-a81d-82d06f987500"
      },
      "execution_count": 59,
      "outputs": [
        {
          "output_type": "display_data",
          "data": {
            "text/plain": [
              "<Figure size 640x480 with 1 Axes>"
            ],
            "image/png": "[encoded data removed]"
          },
          "metadata": {}
        }
      ]
    },
    {
      "cell_type": "markdown",
      "source": [
        "Normalize Data"
      ],
      "metadata": {
        "id": "6trZc9AWBHYY"
      }
    },
    {
      "cell_type": "code",
      "source": [
        "imgs = torch.stack([img_t for img_t, _ in tensor_cifar10], dim=3)\n",
        "imgs.shape"
      ],
      "metadata": {
        "colab": {
          "base_uri": "https://localhost:8080/"
        },
        "id": "elQhDwcpBKAP",
        "outputId": "2f09f215-6b8b-44fe-89c9-7a0b3a4e2437"
      },
      "execution_count": 60,
      "outputs": [
        {
          "output_type": "execute_result",
          "data": {
            "text/plain": [
              "torch.Size([3, 32, 32, 50000])"
            ]
          },
          "metadata": {},
          "execution_count": 60
        }
      ]
    },
    {
      "cell_type": "code",
      "source": [
        "imgs.view(3,-1).mean(dim=1)"
      ],
      "metadata": {
        "colab": {
          "base_uri": "https://localhost:8080/"
        },
        "id": "pZllj_9mCECI",
        "outputId": "8822e1ac-352f-4ec9-8fbc-0068bef5520a"
      },
      "execution_count": 61,
      "outputs": [
        {
          "output_type": "execute_result",
          "data": {
            "text/plain": [
              "tensor([0.4914, 0.4822, 0.4465])"
            ]
          },
          "metadata": {},
          "execution_count": 61
        }
      ]
    },
    {
      "cell_type": "code",
      "source": [
        "imgs.view(3,-1).std(dim=1)"
      ],
      "metadata": {
        "colab": {
          "base_uri": "https://localhost:8080/"
        },
        "id": "PyBhHhGuCHGu",
        "outputId": "2dea4c49-eeb5-402b-b736-53dfffce1413"
      },
      "execution_count": 62,
      "outputs": [
        {
          "output_type": "execute_result",
          "data": {
            "text/plain": [
              "tensor([0.2470, 0.2435, 0.2616])"
            ]
          },
          "metadata": {},
          "execution_count": 62
        }
      ]
    },
    {
      "cell_type": "code",
      "source": [
        "transforms.Normalize((0.4915, 0.4823, 0.4468), (0.2470, 0.2435, 0.2616))"
      ],
      "metadata": {
        "colab": {
          "base_uri": "https://localhost:8080/"
        },
        "id": "50hCE1FFCTfC",
        "outputId": "36952e24-9bcf-4c63-967e-5dcedeab654d"
      },
      "execution_count": 63,
      "outputs": [
        {
          "output_type": "execute_result",
          "data": {
            "text/plain": [
              "Normalize(mean=(0.4915, 0.4823, 0.4468), std=(0.247, 0.2435, 0.2616))"
            ]
          },
          "metadata": {},
          "execution_count": 63
        }
      ]
    },
    {
      "cell_type": "code",
      "source": [
        "transformed_cifar10 = datasets.CIFAR10(\n",
        " data_path, train=True, download=False,transform=transforms.Compose([\n",
        " transforms.ToTensor(),\n",
        " transforms.Normalize((0.4915, 0.4823, 0.4468),\n",
        " (0.2470, 0.2435, 0.2616))\n",
        " ]))"
      ],
      "metadata": {
        "id": "qDaqEWcNCbYb"
      },
      "execution_count": 64,
      "outputs": []
    },
    {
      "cell_type": "code",
      "source": [
        "img_t, _ = transformed_cifar10[99]"
      ],
      "metadata": {
        "id": "dX2dzp_5CoT6"
      },
      "execution_count": 65,
      "outputs": []
    },
    {
      "cell_type": "code",
      "source": [
        "plt.imshow(img_t.permute(1, 2, 0))\n",
        "plt.show()"
      ],
      "metadata": {
        "colab": {
          "base_uri": "https://localhost:8080/",
          "height": 447
        },
        "id": "IXpThHOyCrtr",
        "outputId": "c5f2cbae-6b52-4d8c-fe6d-19c42f4e4f05"
      },
      "execution_count": 66,
      "outputs": [
        {
          "output_type": "stream",
          "name": "stderr",
          "text": [
            "WARNING:matplotlib.image:Clipping input data to the valid range for imshow with RGB data ([0..1] for floats or [0..255] for integers). Got range [-1.9806982..2.126078].\n"
          ]
        },
        {
          "output_type": "display_data",
          "data": {
            "text/plain": [
              "<Figure size 640x480 with 1 Axes>"
            ],
            "image/png": "[encoded data removed]"
          },
          "metadata": {}
        }
      ]
    },
    {
      "cell_type": "code",
      "source": [
        "label_map = {0: 0, 2: 1}\n",
        "class_names = ['airplane', 'bird']\n",
        "cifar2 = [(img, label_map[label]) for img, label in cifar10 if label in [0, 2]]\n",
        "cifar2_val = [(img, label_map[label]) for img, label in cifar10_val if label in [0, 2]]"
      ],
      "metadata": {
        "id": "RN-XFFqDC1VN"
      },
      "execution_count": 67,
      "outputs": []
    },
    {
      "cell_type": "code",
      "source": [
        "import torch.nn as nn"
      ],
      "metadata": {
        "id": "NtG_gzMQDZCZ"
      },
      "execution_count": 68,
      "outputs": []
    },
    {
      "cell_type": "code",
      "source": [
        "n_out = 2\n",
        "model = nn.Sequential(nn.Linear(3072,512,),nn.Tanh(), nn.Linear(512,n_out))"
      ],
      "metadata": {
        "id": "Cun3_LvhDaog"
      },
      "execution_count": 69,
      "outputs": []
    },
    {
      "cell_type": "code",
      "source": [
        "def softmax(x):\n",
        "  return torch.exp(x) / torch.exp(x).sum()"
      ],
      "metadata": {
        "id": "Wjjxs9L5Egm-"
      },
      "execution_count": 70,
      "outputs": []
    },
    {
      "cell_type": "code",
      "source": [
        "x = torch.tensor([1.0, 2.0, 3.0])\n",
        "softmax(x)"
      ],
      "metadata": {
        "colab": {
          "base_uri": "https://localhost:8080/"
        },
        "id": "1qvhCsmDEkfr",
        "outputId": "4c9df85f-dd6d-4e1b-e6bc-197b0882ae04"
      },
      "execution_count": 71,
      "outputs": [
        {
          "output_type": "execute_result",
          "data": {
            "text/plain": [
              "tensor([0.0900, 0.2447, 0.6652])"
            ]
          },
          "metadata": {},
          "execution_count": 71
        }
      ]
    },
    {
      "cell_type": "code",
      "source": [
        "softmax(x).sum()"
      ],
      "metadata": {
        "colab": {
          "base_uri": "https://localhost:8080/"
        },
        "id": "AJ1uYYINEynA",
        "outputId": "ff645f48-3bac-4293-f502-176c97efae25"
      },
      "execution_count": 72,
      "outputs": [
        {
          "output_type": "execute_result",
          "data": {
            "text/plain": [
              "tensor(1.)"
            ]
          },
          "metadata": {},
          "execution_count": 72
        }
      ]
    },
    {
      "cell_type": "code",
      "source": [
        "softmax = nn.Softmax(dim=1)\n",
        "x = torch.tensor([[1.0, 2.0, 3.0],[1.0, 2.0, 3.0]])\n"
      ],
      "metadata": {
        "id": "kjzUwGmnE21l"
      },
      "execution_count": 73,
      "outputs": []
    },
    {
      "cell_type": "code",
      "source": [
        "model = nn.Sequential(\n",
        "nn.Linear(3072, 512),\n",
        "nn.Tanh(),\n",
        "nn.Linear(512, 2),\n",
        "nn.Softmax(dim=1))"
      ],
      "metadata": {
        "id": "Fc8uG2JPE-bb"
      },
      "execution_count": 74,
      "outputs": []
    },
    {
      "cell_type": "code",
      "source": [
        "img_t, _ = transformed_cifar10[0]\n",
        "plt.imshow(img_t.permute(1, 2, 0))\n",
        "plt.show()"
      ],
      "metadata": {
        "colab": {
          "base_uri": "https://localhost:8080/",
          "height": 447
        },
        "id": "Kz1hsMg6FJjx",
        "outputId": "6aa1a30b-2a82-494b-a001-1e08f4b487a5"
      },
      "execution_count": 75,
      "outputs": [
        {
          "output_type": "stream",
          "name": "stderr",
          "text": [
            "WARNING:matplotlib.image:Clipping input data to the valid range for imshow with RGB data ([0..1] for floats or [0..255] for integers). Got range [-1.9898785..2.0938678].\n"
          ]
        },
        {
          "output_type": "display_data",
          "data": {
            "text/plain": [
              "<Figure size 640x480 with 1 Axes>"
            ],
            "image/png": "[encoded data removed]"
          },
          "metadata": {}
        }
      ]
    },
    {
      "cell_type": "code",
      "source": [
        "to_tensor = transforms.ToTensor()\n",
        "img_t = to_tensor(img)\n",
        "img_batch = img_t.view(-1).unsqueeze(0)"
      ],
      "metadata": {
        "id": "wKijDOaFGA0Q"
      },
      "execution_count": 76,
      "outputs": []
    },
    {
      "cell_type": "code",
      "source": [
        "out = model(img_batch)\n",
        "out"
      ],
      "metadata": {
        "colab": {
          "base_uri": "https://localhost:8080/"
        },
        "id": "bczNV42VGJd5",
        "outputId": "3448f2fa-463b-463c-b2a0-de0ff0b86b3a"
      },
      "execution_count": 77,
      "outputs": [
        {
          "output_type": "execute_result",
          "data": {
            "text/plain": [
              "tensor([[0.4369, 0.5631]], grad_fn=<SoftmaxBackward0>)"
            ]
          },
          "metadata": {},
          "execution_count": 77
        }
      ]
    },
    {
      "cell_type": "code",
      "source": [
        "_, index = torch.max(out, dim=1)"
      ],
      "metadata": {
        "id": "QW8DhSiHGQsx"
      },
      "execution_count": 78,
      "outputs": []
    },
    {
      "cell_type": "code",
      "source": [
        "model = nn.Sequential(\n",
        "nn.Linear(3072, 512),\n",
        "nn.Tanh(),\n",
        "nn.Linear(512, 2),\n",
        "nn.LogSoftmax(dim=1))"
      ],
      "metadata": {
        "id": "D1Mo4Ai1GX5D"
      },
      "execution_count": 79,
      "outputs": []
    },
    {
      "cell_type": "code",
      "source": [
        "loss = nn.NLLLoss()"
      ],
      "metadata": {
        "id": "iyb8Iq87Gc8c"
      },
      "execution_count": 80,
      "outputs": []
    },
    {
      "cell_type": "code",
      "source": [
        "img, label = cifar2[0]"
      ],
      "metadata": {
        "id": "YOSbDK7NGgiq"
      },
      "execution_count": 81,
      "outputs": []
    },
    {
      "cell_type": "code",
      "source": [
        "import torch\n",
        "import torch.nn as nn\n",
        "import torch.optim as optim\n",
        "from torchvision import transforms"
      ],
      "metadata": {
        "id": "RFY-ZEvTayLI"
      },
      "execution_count": 82,
      "outputs": []
    },
    {
      "cell_type": "code",
      "source": [
        "img, label = cifar2[0]\n",
        "img_t = transform(img) # Apply the transform to the image from cifar2\n",
        "out = model(img_t.view(-1).unsqueeze(0))\n",
        "loss(out, torch.tensor([label]))"
      ],
      "metadata": {
        "colab": {
          "base_uri": "https://localhost:8080/"
        },
        "id": "Z2HXzJzuGjeL",
        "outputId": "54c15034-4982-4dc5-ab34-1f10632fccef"
      },
      "execution_count": 83,
      "outputs": [
        {
          "output_type": "execute_result",
          "data": {
            "text/plain": [
              "tensor(0.6686, grad_fn=<NllLossBackward0>)"
            ]
          },
          "metadata": {},
          "execution_count": 83
        }
      ]
    },
    {
      "cell_type": "code",
      "source": [],
      "metadata": {
        "id": "3ac3ks_CHhjf"
      },
      "execution_count": 83,
      "outputs": []
    },
    {
      "cell_type": "code",
      "source": [],
      "metadata": {
        "id": "gr7n2TUPHhf7"
      },
      "execution_count": 83,
      "outputs": []
    },
    {
      "cell_type": "code",
      "source": [
        "import torch\n",
        "import torch.nn as nn\n",
        "import torch.optim as optim\n",
        "from torchvision import transforms\n",
        "\n",
        "model = nn.Sequential(\n",
        "    nn.Linear(3072, 512),\n",
        "    nn.Tanh(),\n",
        "    nn.Linear(512, 2),\n",
        "    nn.LogSoftmax(dim=1))\n",
        "\n",
        "learning_rate = 1e-2\n",
        "optimizer = optim.SGD(model.parameters(), lr=learning_rate)\n",
        "loss_fn = nn.NLLLoss()\n",
        "\n",
        "n_epochs = 30\n",
        "loss_history = [] # Initialize a list to store loss history\n",
        "\n",
        "# Define the transformation as before\n",
        "transform = transforms.Compose([\n",
        "    transforms.ToTensor(),\n",
        "    transforms.Normalize((0.4915, 0.4823, 0.4468),\n",
        "                         (0.2470, 0.2435, 0.2616))\n",
        "])\n",
        "\n",
        "for epoch in range(n_epochs):\n",
        "    for img, label in cifar2:\n",
        "        # Apply the transformation to the image\n",
        "        img_t = transform(img)\n",
        "        out = model(img_t.view(-1).unsqueeze(0))\n",
        "        loss = loss_fn(out, torch.tensor([label]))\n",
        "\n",
        "        optimizer.zero_grad()\n",
        "        loss.backward()\n",
        "        optimizer.step()\n",
        "\n",
        "    print(\"Epoch: %d, Loss: %f\" % (epoch, float(loss)))\n",
        "    loss_history.append(float(loss)) # Append the loss to the history list"
      ],
      "metadata": {
        "colab": {
          "base_uri": "https://localhost:8080/"
        },
        "id": "RLEiuCexHhdT",
        "outputId": "aa9adcf6-6696-45c8-f140-0f61727d1dd9"
      },
      "execution_count": 84,
      "outputs": [
        {
          "output_type": "stream",
          "name": "stdout",
          "text": [
            "Epoch: 0, Loss: 5.707824\n",
            "Epoch: 1, Loss: 6.994568\n",
            "Epoch: 2, Loss: 10.344081\n",
            "Epoch: 3, Loss: 3.958533\n",
            "Epoch: 4, Loss: 10.527205\n",
            "Epoch: 5, Loss: 3.155240\n",
            "Epoch: 6, Loss: 7.293688\n",
            "Epoch: 7, Loss: 6.313790\n",
            "Epoch: 8, Loss: 11.930651\n",
            "Epoch: 9, Loss: 10.432860\n",
            "Epoch: 10, Loss: 16.378349\n",
            "Epoch: 11, Loss: 13.973559\n",
            "Epoch: 12, Loss: 2.754062\n",
            "Epoch: 13, Loss: 13.877843\n",
            "Epoch: 14, Loss: 5.569172\n",
            "Epoch: 15, Loss: 12.311777\n",
            "Epoch: 16, Loss: 8.904226\n",
            "Epoch: 17, Loss: 12.876167\n",
            "Epoch: 18, Loss: 7.938213\n",
            "Epoch: 19, Loss: 7.525062\n",
            "Epoch: 20, Loss: 1.898831\n",
            "Epoch: 21, Loss: 10.001534\n",
            "Epoch: 22, Loss: 11.634034\n",
            "Epoch: 23, Loss: 8.832251\n",
            "Epoch: 24, Loss: 12.033226\n",
            "Epoch: 25, Loss: 9.251038\n",
            "Epoch: 26, Loss: 10.976120\n",
            "Epoch: 27, Loss: 8.638502\n",
            "Epoch: 28, Loss: 25.393070\n",
            "Epoch: 29, Loss: 10.822124\n"
          ]
        }
      ]
    },
    {
      "cell_type": "code",
      "source": [
        "conv = nn.Conv2d(3, 16, kernel_size=3)\n",
        "conv"
      ],
      "metadata": {
        "colab": {
          "base_uri": "https://localhost:8080/"
        },
        "id": "E-jhKT_4bQvj",
        "outputId": "9e75ef38-a3bc-4f4d-efc8-1f58cb7aca0b"
      },
      "execution_count": 85,
      "outputs": [
        {
          "data": {
            "text/plain": [
              "Conv2d(3, 16, kernel_size=(3, 3), stride=(1, 1))"
            ]
          },
          "execution_count": 85,
          "metadata": {},
          "output_type": "execute_result"
        }
      ]
    },
    {
      "cell_type": "code",
      "source": [
        "conv.weight.shape, conv.bias.shape"
      ],
      "metadata": {
        "colab": {
          "base_uri": "https://localhost:8080/"
        },
        "id": "7nCOoAxIdPmX",
        "outputId": "20a0193c-68e6-4aa7-fbe5-5ef889eec1ba"
      },
      "execution_count": 86,
      "outputs": [
        {
          "output_type": "execute_result",
          "data": {
            "text/plain": [
              "(torch.Size([16, 3, 3, 3]), torch.Size([16]))"
            ]
          },
          "metadata": {},
          "execution_count": 86
        }
      ]
    },
    {
      "cell_type": "code",
      "source": [
        "img, _ = cifar2[0]\n",
        "# Convert the PIL Image to a PyTorch tensor\n",
        "img_t = transforms.ToTensor()(img)\n",
        "output = conv(img_t.unsqueeze(0))\n",
        "img_t.unsqueeze(0).shape, output.shape"
      ],
      "metadata": {
        "colab": {
          "base_uri": "https://localhost:8080/"
        },
        "id": "hIJQBaRldPjN",
        "outputId": "223352ec-58e1-4874-d9c2-5d36231bd226"
      },
      "execution_count": 90,
      "outputs": [
        {
          "output_type": "execute_result",
          "data": {
            "text/plain": [
              "(torch.Size([1, 3, 32, 32]), torch.Size([1, 16, 30, 30]))"
            ]
          },
          "metadata": {},
          "execution_count": 90
        }
      ]
    },
    {
      "cell_type": "code",
      "source": [
        "plt.imshow(output[0, 0].detach(), cmap='gray')\n",
        "plt.show()"
      ],
      "metadata": {
        "colab": {
          "base_uri": "https://localhost:8080/",
          "height": 430
        },
        "id": "tIgWCjfadPhK",
        "outputId": "82103f32-ee6d-4f37-b04e-9043bfe5b390"
      },
      "execution_count": 91,
      "outputs": [
        {
          "output_type": "display_data",
          "data": {
            "text/plain": [
              "<Figure size 640x480 with 1 Axes>"
            ],
            "image/png": "[encoded data removed]"
          },
          "metadata": {}
        }
      ]
    },
    {
      "cell_type": "code",
      "source": [
        "conv = nn.Conv2d(3, 1, kernel_size=3, padding=1)\n",
        "# Convert the PIL Image to a PyTorch tensor\n",
        "img_t = transforms.ToTensor()(img)\n",
        "output = conv(img_t.unsqueeze(0))\n",
        "img_t.unsqueeze(0).shape, output.shape"
      ],
      "metadata": {
        "colab": {
          "base_uri": "https://localhost:8080/"
        },
        "id": "VeOZiGuxdPfU",
        "outputId": "be2ec6c6-1bcb-4f19-834a-2a9dd84618f6"
      },
      "execution_count": 93,
      "outputs": [
        {
          "output_type": "execute_result",
          "data": {
            "text/plain": [
              "(torch.Size([1, 3, 32, 32]), torch.Size([1, 1, 32, 32]))"
            ]
          },
          "metadata": {},
          "execution_count": 93
        }
      ]
    },
    {
      "cell_type": "code",
      "source": [
        "with torch.no_grad():\n",
        "  conv.bias.zero_()\n",
        "with torch.no_grad():\n",
        "  conv.weight.fill_(1.0 / 9.0)"
      ],
      "metadata": {
        "id": "gwaPefwKdPdO"
      },
      "execution_count": 94,
      "outputs": []
    },
    {
      "cell_type": "code",
      "source": [
        "# Convert the PIL Image to a PyTorch tensor\n",
        "img_t = transforms.ToTensor()(img)\n",
        "output = conv(img_t.unsqueeze(0))\n",
        "plt.imshow(output[0, 0].detach(), cmap='gray')\n",
        "plt.show()"
      ],
      "metadata": {
        "colab": {
          "base_uri": "https://localhost:8080/",
          "height": 430
        },
        "id": "aBx-8sNJdPa9",
        "outputId": "1bd2618e-c52d-4230-a43a-623947b193f6"
      },
      "execution_count": 96,
      "outputs": [
        {
          "output_type": "display_data",
          "data": {
            "text/plain": [
              "<Figure size 640x480 with 1 Axes>"
            ],
            "image/png": "[encoded data removed]"
          },
          "metadata": {}
        }
      ]
    },
    {
      "cell_type": "code",
      "source": [
        "conv = nn.Conv2d(3, 1, kernel_size=3, padding=1)\n",
        "with torch.no_grad():\n",
        "  conv.weight[:] = torch.tensor([[-1.0, 0.0, 1.0],\n",
        "  [-1.0, 0.0, 1.0],\n",
        "  [-1.0, 0.0, 1.0]])\n",
        "  conv.bias.zero_()\n"
      ],
      "metadata": {
        "id": "20Iz02AQdPY6"
      },
      "execution_count": 97,
      "outputs": []
    },
    {
      "cell_type": "code",
      "source": [
        "pool = nn.MaxPool2d(2)\n",
        "# Convert the PIL Image to a PyTorch tensor\n",
        "img_t = transforms.ToTensor()(img)\n",
        "output = pool(img_t.unsqueeze(0))\n",
        "img_t.unsqueeze(0).shape, output.shape"
      ],
      "metadata": {
        "colab": {
          "base_uri": "https://localhost:8080/"
        },
        "id": "MawAb1OqgXdc",
        "outputId": "8f2ef226-fbe7-4b50-cd1f-16ae6596fbee"
      },
      "execution_count": 103,
      "outputs": [
        {
          "output_type": "execute_result",
          "data": {
            "text/plain": [
              "(torch.Size([1, 3, 32, 32]), torch.Size([1, 3, 16, 16]))"
            ]
          },
          "metadata": {},
          "execution_count": 103
        }
      ]
    },
    {
      "cell_type": "code",
      "source": [
        "model = nn.Sequential(\n",
        " nn.Conv2d(3, 16, kernel_size=3, padding=1),\n",
        " nn.Tanh(),\n",
        " nn.MaxPool2d(2),\n",
        " nn.Conv2d(16, 8, kernel_size=3, padding=1),\n",
        " nn.Tanh(),\n",
        " nn.MaxPool2d(2),\n",
        " # ...\n",
        " nn.Linear(8 * 8 * 8, 32),\n",
        " nn.Tanh(),\n",
        " nn.Linear(32, 2))"
      ],
      "metadata": {
        "id": "58ludG3YdPWi"
      },
      "execution_count": 105,
      "outputs": []
    },
    {
      "cell_type": "code",
      "source": [
        "numel_list = [p.numel() for p in model.parameters()]\n",
        "sum(numel_list), numel_list"
      ],
      "metadata": {
        "colab": {
          "base_uri": "https://localhost:8080/"
        },
        "id": "_SZug3bzgqJd",
        "outputId": "7067eeb3-94fd-4d34-ac0f-954a6dd78324"
      },
      "execution_count": 106,
      "outputs": [
        {
          "output_type": "execute_result",
          "data": {
            "text/plain": [
              "(18090, [432, 16, 1152, 8, 16384, 32, 64, 2])"
            ]
          },
          "metadata": {},
          "execution_count": 106
        }
      ]
    },
    {
      "cell_type": "code",
      "source": [
        "class Net(nn.Module):\n",
        "  def __init__(self):\n",
        "    super().__init__()\n",
        "    self.conv1 = nn.Conv2d(3, 16, kernel_size=3, padding=1)\n",
        "    self.act1 = nn.Tanh()\n",
        "    self.pool1 = nn.MaxPool2d(2)\n",
        "    self.conv2 = nn.Conv2d(16, 8, kernel_size=3, padding=1)\n",
        "    self.act2 = nn.Tanh()\n",
        "    self.pool2 = nn.MaxPool2d(2)\n",
        "    self.fc1 = nn.Linear(8 * 8 * 8, 32)\n",
        "    self.act3 = nn.Tanh()\n",
        "    self.fc2 = nn.Linear(32, 2)\n",
        "\n",
        "  def forward(self, x):\n",
        "    out = self.pool1(self.act1(self.conv1(x)))\n",
        "    out = self.pool2(self.act2(self.conv2(out)))\n",
        "    out = out.view(-1, 8 * 8 *8)\n",
        "    out = self.act3(self.fc1(out))\n",
        "    out = self.fc2(out)\n",
        "    return out"
      ],
      "metadata": {
        "id": "CbIk7GCsg9gJ"
      },
      "execution_count": 112,
      "outputs": []
    },
    {
      "cell_type": "code",
      "source": [
        "model = Net()\n",
        "numel_list = [p.numel() for p in model.parameters()]\n",
        "sum(numel_list), numel_list"
      ],
      "metadata": {
        "colab": {
          "base_uri": "https://localhost:8080/"
        },
        "id": "4mJMkpOThZSe",
        "outputId": "469bbafd-7ab8-4954-a7b8-df77f4d5f49c"
      },
      "execution_count": 113,
      "outputs": [
        {
          "output_type": "execute_result",
          "data": {
            "text/plain": [
              "(18090, [432, 16, 1152, 8, 16384, 32, 64, 2])"
            ]
          },
          "metadata": {},
          "execution_count": 113
        }
      ]
    },
    {
      "cell_type": "code",
      "source": [
        "import torch.nn.functional as F\n",
        "class Net(nn.Module):\n",
        " def __init__(self):\n",
        "  super().__init__()\n",
        "  self.conv1 = nn.Conv2d(3, 16, kernel_size=3, padding=1)\n",
        "  self.conv2 = nn.Conv2d(16, 8, kernel_size=3, padding=1)\n",
        "  self.fc1 = nn.Linear(8 * 8 * 8, 32)\n",
        "  self.fc2 = nn.Linear(32, 2)\n",
        "\n",
        " def forward(self, x):\n",
        "  out = F.max_pool2d(torch.tanh(self.conv1(x)), 2)\n",
        "  out = F.max_pool2d(torch.tanh(self.conv2(out)), 2)\n",
        "  out = out.view(-1, 8 * 8 * 8) # This view might cause a shape mismatch\n",
        "  out = torch.tanh(self.fc1(out))\n",
        "  out = self.fc2(out)\n",
        "  return out"
      ],
      "metadata": {
        "id": "aY6zwmOXhiCl"
      },
      "execution_count": 118,
      "outputs": []
    },
    {
      "cell_type": "code",
      "source": [
        "model = Net()\n",
        "# Convert the PIL Image to a PyTorch tensor\n",
        "img_t = transforms.ToTensor()(img)\n",
        "model(img_t.unsqueeze(0))"
      ],
      "metadata": {
        "colab": {
          "base_uri": "https://localhost:8080/"
        },
        "id": "twYWzUv-h10E",
        "outputId": "9c915fb3-52c3-4c82-b1bc-9f8d80f6b4ff"
      },
      "execution_count": 120,
      "outputs": [
        {
          "output_type": "execute_result",
          "data": {
            "text/plain": [
              "tensor([[-0.0261,  0.1064]], grad_fn=<AddmmBackward0>)"
            ]
          },
          "metadata": {},
          "execution_count": 120
        }
      ]
    },
    {
      "cell_type": "code",
      "source": [
        "import datetime\n",
        "\n",
        "def training_loop(n_epochs, optimizer, model, loss_fn, train_loader):\n",
        "  for epoch in range(1, n_epochs + 1):\n",
        "    loss_train = 0.0\n",
        "    for imgs, labels in train_loader:\n",
        "      outputs = model(imgs)\n",
        "      loss = loss_fn(outputs, labels)\n",
        "\n",
        "      optimizer.zero_grad()\n",
        "      loss.backward()\n",
        "      optimizer.step()\n",
        "      loss_train += loss.item()\n",
        "if epoch == 1 or epoch % 10== 0:\n",
        "  print('{} Epoch {}, Training loss {}'.format(\n",
        "  datetime.datetime.now(), epoch,\n",
        "  loss_train / len(train_loader)))\n"
      ],
      "metadata": {
        "id": "gQmtzMaMhsoG"
      },
      "execution_count": 122,
      "outputs": []
    },
    {
      "cell_type": "code",
      "source": [
        "train_loader = torch.utils.data.DataLoader([(transform(img), label) for img, label in cifar2], batch_size=64,\n",
        " shuffle=True)\n",
        "model = Net() #\n",
        "optimizer = optim.SGD(model.parameters(), lr=1e-2) #\n",
        "loss_fn =nn.CrossEntropyLoss() #\n",
        "training_loop(\n",
        "n_epochs = 10,\n",
        "optimizer = optimizer,\n",
        "model = model,\n",
        "loss_fn = loss_fn,\n",
        "train_loader = train_loader,\n",
        ")"
      ],
      "metadata": {
        "id": "qP8SC-7Bi4BX"
      },
      "execution_count": 125,
      "outputs": []
    },
    {
      "cell_type": "code",
      "source": [
        "train_loader = torch.utils.data.DataLoader([(transform(img), label) for img, label in cifar2], batch_size=64,\n",
        " shuffle=False)\n",
        "val_loader = torch.utils.data.DataLoader([(transform(img), label) for img, label in cifar2_val], batch_size=64,\n",
        " shuffle=False)\n",
        "def validate(model, train_loader, val_loader):\n",
        " for name, loader in [(\"train\", train_loader), (\"val\", val_loader)]:\n",
        "   correct = 0\n",
        "   total = 0\n",
        "\n",
        "   with torch.no_grad():\n",
        "    for imgs, labels in loader:\n",
        "      outputs = model(imgs)\n",
        "      _, predicted = torch.max(outputs, dim=1)\n",
        "      total += labels.shape[0]\n",
        "      correct += int((predicted == labels).sum())\n",
        "\n",
        "   print(\"Accuracy {}: {:.2f}\".format(name , correct / total))\n",
        "validate(model, train_loader, val_loader)"
      ],
      "metadata": {
        "colab": {
          "base_uri": "https://localhost:8080/"
        },
        "id": "1SPdJhtojO-w",
        "outputId": "278f4665-1091-46ce-b220-18e3b0e2beb2"
      },
      "execution_count": 128,
      "outputs": [
        {
          "output_type": "stream",
          "name": "stdout",
          "text": [
            "Accuracy train: 0.86\n",
            "Accuracy val: 0.85\n"
          ]
        }
      ]
    },
    {
      "cell_type": "code",
      "source": [
        "torch.save(model.state_dict(), data_path + 'birds_vs_airplanes.pt')"
      ],
      "metadata": {
        "id": "h_sAi0OfkJfJ"
      },
      "execution_count": 129,
      "outputs": []
    },
    {
      "cell_type": "code",
      "source": [
        "loaded_model = Net()\n",
        "loaded_model.load_state_dict(torch.load(data_path\n",
        " + 'birds_vs_airplanes.pt'))"
      ],
      "metadata": {
        "colab": {
          "base_uri": "https://localhost:8080/"
        },
        "id": "FSPsYr0skNgc",
        "outputId": "4f3e8e64-95a6-4531-c18c-9e730ce7aae3"
      },
      "execution_count": 130,
      "outputs": [
        {
          "output_type": "execute_result",
          "data": {
            "text/plain": [
              "<All keys matched successfully>"
            ]
          },
          "metadata": {},
          "execution_count": 130
        }
      ]
    }
  ]
}